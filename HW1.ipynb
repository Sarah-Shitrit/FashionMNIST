{
  "cells": [
    {
      "cell_type": "markdown",
      "metadata": {
        "id": "view-in-github",
        "colab_type": "text"
      },
      "source": [
        "<a href=\"https://colab.research.google.com/github/Sarah-Shitrit/FashionMNIST/blob/main/HW1.ipynb\" target=\"_parent\"><img src=\"https://colab.research.google.com/assets/colab-badge.svg\" alt=\"Open In Colab\"/></a>"
      ]
    },
    {
      "cell_type": "markdown",
      "metadata": {
        "id": "G2dsy9l-jd0-"
      },
      "source": [
        "# Imports and downloads"
      ]
    },
    {
      "cell_type": "code",
      "execution_count": null,
      "metadata": {
        "id": "MO0czfAewFSU"
      },
      "outputs": [],
      "source": [
        "# Important! Insert the path to the folder in which the models' parameters are saved\n",
        "models_path = '/content/drive/MyDrive/Deep Learning Course/HW1'"
      ]
    },
    {
      "cell_type": "code",
      "execution_count": null,
      "metadata": {
        "id": "eoaIZZi3JaBY"
      },
      "outputs": [],
      "source": [
        "import torch\n",
        "from torch import nn, optim\n",
        "import torch.nn.functional as F\n",
        "import matplotlib.pyplot as plt"
      ]
    },
    {
      "cell_type": "code",
      "execution_count": null,
      "metadata": {
        "colab": {
          "base_uri": "https://localhost:8080/"
        },
        "id": "kcV8ljEPidLq",
        "outputId": "2beccbd3-0393-4201-8dd3-8830bc3a215f"
      },
      "outputs": [
        {
          "name": "stdout",
          "output_type": "stream",
          "text": [
            "Downloading http://fashion-mnist.s3-website.eu-central-1.amazonaws.com/train-images-idx3-ubyte.gz\n",
            "Downloading http://fashion-mnist.s3-website.eu-central-1.amazonaws.com/train-images-idx3-ubyte.gz to /root/.pytorch/F_MNIST_data/FashionMNIST/raw/train-images-idx3-ubyte.gz\n"
          ]
        },
        {
          "name": "stderr",
          "output_type": "stream",
          "text": [
            "100%|██████████| 26421880/26421880 [00:01<00:00, 16192834.76it/s]\n"
          ]
        },
        {
          "name": "stdout",
          "output_type": "stream",
          "text": [
            "Extracting /root/.pytorch/F_MNIST_data/FashionMNIST/raw/train-images-idx3-ubyte.gz to /root/.pytorch/F_MNIST_data/FashionMNIST/raw\n",
            "\n",
            "Downloading http://fashion-mnist.s3-website.eu-central-1.amazonaws.com/train-labels-idx1-ubyte.gz\n",
            "Downloading http://fashion-mnist.s3-website.eu-central-1.amazonaws.com/train-labels-idx1-ubyte.gz to /root/.pytorch/F_MNIST_data/FashionMNIST/raw/train-labels-idx1-ubyte.gz\n"
          ]
        },
        {
          "name": "stderr",
          "output_type": "stream",
          "text": [
            "100%|██████████| 29515/29515 [00:00<00:00, 272805.75it/s]\n"
          ]
        },
        {
          "name": "stdout",
          "output_type": "stream",
          "text": [
            "Extracting /root/.pytorch/F_MNIST_data/FashionMNIST/raw/train-labels-idx1-ubyte.gz to /root/.pytorch/F_MNIST_data/FashionMNIST/raw\n",
            "\n",
            "Downloading http://fashion-mnist.s3-website.eu-central-1.amazonaws.com/t10k-images-idx3-ubyte.gz\n",
            "Downloading http://fashion-mnist.s3-website.eu-central-1.amazonaws.com/t10k-images-idx3-ubyte.gz to /root/.pytorch/F_MNIST_data/FashionMNIST/raw/t10k-images-idx3-ubyte.gz\n"
          ]
        },
        {
          "name": "stderr",
          "output_type": "stream",
          "text": [
            "100%|██████████| 4422102/4422102 [00:00<00:00, 5059637.70it/s]\n"
          ]
        },
        {
          "name": "stdout",
          "output_type": "stream",
          "text": [
            "Extracting /root/.pytorch/F_MNIST_data/FashionMNIST/raw/t10k-images-idx3-ubyte.gz to /root/.pytorch/F_MNIST_data/FashionMNIST/raw\n",
            "\n",
            "Downloading http://fashion-mnist.s3-website.eu-central-1.amazonaws.com/t10k-labels-idx1-ubyte.gz\n",
            "Downloading http://fashion-mnist.s3-website.eu-central-1.amazonaws.com/t10k-labels-idx1-ubyte.gz to /root/.pytorch/F_MNIST_data/FashionMNIST/raw/t10k-labels-idx1-ubyte.gz\n"
          ]
        },
        {
          "name": "stderr",
          "output_type": "stream",
          "text": [
            "100%|██████████| 5148/5148 [00:00<00:00, 18957223.00it/s]"
          ]
        },
        {
          "name": "stdout",
          "output_type": "stream",
          "text": [
            "Extracting /root/.pytorch/F_MNIST_data/FashionMNIST/raw/t10k-labels-idx1-ubyte.gz to /root/.pytorch/F_MNIST_data/FashionMNIST/raw\n",
            "\n"
          ]
        },
        {
          "name": "stderr",
          "output_type": "stream",
          "text": [
            "\n"
          ]
        }
      ],
      "source": [
        "from torchvision import datasets, transforms\n",
        "\n",
        "# Define a transform to normalize the data\n",
        "transform = transforms.Compose([transforms.ToTensor(),\n",
        "                                transforms.Normalize((0.5,), (0.5,))])\n",
        "# Download and load the training data\n",
        "trainset = datasets.FashionMNIST('~/.pytorch/F_MNIST_data/', download=True, train=True, transform=transform)\n",
        "trainloader = torch.utils.data.DataLoader(trainset, batch_size=64, shuffle=True)\n",
        "\n",
        "# Download and load the test data\n",
        "testset = datasets.FashionMNIST('~/.pytorch/F_MNIST_data/', download=True, train=False, transform=transform)\n",
        "testloader = torch.utils.data.DataLoader(testset, batch_size=64, shuffle=True)"
      ]
    },
    {
      "cell_type": "markdown",
      "metadata": {
        "id": "1Zs_RdU_jmwd"
      },
      "source": [
        "# Networks"
      ]
    },
    {
      "cell_type": "markdown",
      "metadata": {
        "id": "8kXyKHWqj33T"
      },
      "source": [
        "## LENET-5, LENET-5 with wd"
      ]
    },
    {
      "cell_type": "code",
      "execution_count": null,
      "metadata": {
        "id": "a14XX5zcJkSZ"
      },
      "outputs": [],
      "source": [
        "# Build network, LENET-5\n",
        "class LENET5(nn.Module):\n",
        "  def __init__(self):\n",
        "    super().__init__()\n",
        "    self.fc1 = nn.Conv2d(1, 6, 5, padding='same')\n",
        "    self.fc2 = nn.MaxPool2d(2, stride=2)\n",
        "    self.fc3 = nn.Conv2d(6, 16, 5)\n",
        "    self.fc4 = nn.MaxPool2d(2, stride=2)\n",
        "    self.fc5 = nn.Conv2d(16, 120, 5)\n",
        "    self.fc6 = nn.Linear(120, 84)\n",
        "    self.fc7 = nn.Linear(84, 10)\n",
        "\n",
        "  def forward(self, x):\n",
        "    x = F.relu(self.fc1(x))\n",
        "    x = F.relu(self.fc2(x))\n",
        "    x = F.relu(self.fc3(x))\n",
        "    x = F.relu(self.fc4(x))\n",
        "    x = F.relu(self.fc5(x))\n",
        "    x = x.view(x.shape[0], -1)\n",
        "    x = F.relu(self.fc6(x))\n",
        "    x = F.log_softmax(self.fc7(x), dim=1) \n",
        "\n",
        "    return x\n",
        "\n"
      ]
    },
    {
      "cell_type": "markdown",
      "metadata": {
        "id": "IDiqWc4lkEs4"
      },
      "source": [
        "## LENET-5 with dropout"
      ]
    },
    {
      "cell_type": "code",
      "execution_count": null,
      "metadata": {
        "id": "rIBIZ5PjHIxR"
      },
      "outputs": [],
      "source": [
        "# LENET-5 with dropout\n",
        "class LENET5_dropout(nn.Module):\n",
        "  def __init__(self):\n",
        "    super().__init__()\n",
        "    self.fc1 = nn.Conv2d(1, 6, 5, padding='same')\n",
        "    self.fc2 = nn.MaxPool2d(2, stride=2)\n",
        "    self.fc3 = nn.Conv2d(6, 16, 5)\n",
        "    self.fc4 = nn.MaxPool2d(2, stride=2)\n",
        "    self.fc5 = nn.Conv2d(16, 120, 5)\n",
        "    self.fc6 = nn.Linear(120, 84)\n",
        "    self.fc7 = nn.Linear(84, 10)\n",
        "\n",
        "    self.dropout = nn.Dropout(0.2)\n",
        "\n",
        "  def forward(self, x):\n",
        "    x = F.relu(self.fc1(x))\n",
        "    x = self.dropout(x)\n",
        "    x = F.relu(self.fc2(x))\n",
        "    x = self.dropout(x)\n",
        "    x = F.relu(self.fc3(x))\n",
        "    x = self.dropout(x)\n",
        "    x = F.relu(self.fc4(x))\n",
        "    x = self.dropout(x)\n",
        "    x = F.relu(self.fc5(x))\n",
        "    x = self.dropout(x)\n",
        "    x = x.view(x.shape[0], -1)\n",
        "    x = F.relu(self.fc6(x))\n",
        "    x = F.log_softmax(self.fc7(x), dim=1) \n",
        "\n",
        "    return x"
      ]
    },
    {
      "cell_type": "markdown",
      "metadata": {
        "id": "Lk5ce5bwkLYD"
      },
      "source": [
        "## LENET-5 with BN"
      ]
    },
    {
      "cell_type": "code",
      "execution_count": null,
      "metadata": {
        "id": "aKi-aKxkWCJ2"
      },
      "outputs": [],
      "source": [
        "# LENET-5, BN\n",
        "class LENET5_bn(nn.Module):\n",
        "  def __init__(self):\n",
        "    super().__init__()\n",
        "    self.fc1 = nn.Conv2d(1, 6, 5, padding='same')\n",
        "    self.fc1_bn = nn.BatchNorm2d(6)\n",
        "\n",
        "    self.fc2 = nn.MaxPool2d(2, stride=2)\n",
        "    self.fc2_bn = nn.BatchNorm2d(6)\n",
        "\n",
        "    self.fc3 = nn.Conv2d(6, 16, 5)\n",
        "    self.fc3_bn = nn.BatchNorm2d(16)\n",
        "\n",
        "    self.fc4 = nn.MaxPool2d(2, stride=2)\n",
        "    self.fc4_bn = nn.BatchNorm2d(16)\n",
        "    \n",
        "    self.fc5 = nn.Conv2d(16, 120, 5)\n",
        "    self.fc5_bn = nn.BatchNorm2d(120)\n",
        "    \n",
        "    self.fc6 = nn.Linear(120, 84)\n",
        "    self.fc6_bn = nn.BatchNorm1d(84)\n",
        "    \n",
        "    self.fc7 = nn.Linear(84, 10)\n",
        "\n",
        "  def forward(self, x):\n",
        "    x = self.fc1(x)\n",
        "    x = F.relu(self.fc1_bn(x))\n",
        "    x = self.fc2(x)\n",
        "    x = F.relu(self.fc2_bn(x))\n",
        "    x = self.fc3(x)\n",
        "    x = F.relu(self.fc3_bn(x))\n",
        "    x = self.fc4(x)\n",
        "    x = F.relu(self.fc4_bn(x))\n",
        "    x = self.fc5(x)\n",
        "    x = F.relu(self.fc5_bn(x))\n",
        "    x = x.view(x.shape[0], -1)\n",
        "    x = self.fc6(x)\n",
        "    x = F.relu(self.fc6_bn(x))\n",
        "    x = F.log_softmax(self.fc7(x), dim=1) \n",
        "\n",
        "    return x"
      ]
    },
    {
      "cell_type": "markdown",
      "metadata": {
        "id": "69Lm2DSEkahD"
      },
      "source": [
        "# Train and save data of best models"
      ]
    },
    {
      "cell_type": "markdown",
      "metadata": {
        "id": "KL0DmNrqMEVT"
      },
      "source": [
        "## No regularization"
      ]
    },
    {
      "cell_type": "code",
      "execution_count": null,
      "metadata": {
        "colab": {
          "background_save": true,
          "base_uri": "https://localhost:8080/"
        },
        "id": "DMC9udgkMG8Y",
        "outputId": "a6fc2a26-e27c-4e3a-fcc7-7955f0895edc"
      },
      "outputs": [
        {
          "name": "stdout",
          "output_type": "stream",
          "text": [
            "Epoch: 1/30.. Training loss: 0.602.. Test loss: 0.442.. Train Accuracy: 0.776 Test Accuracy: 0.839..\n",
            "Epoch: 2/30.. Training loss: 0.376.. Test loss: 0.363.. Train Accuracy: 0.862 Test Accuracy: 0.867..\n",
            "Epoch: 3/30.. Training loss: 0.317.. Test loss: 0.340.. Train Accuracy: 0.884 Test Accuracy: 0.876..\n",
            "Epoch: 4/30.. Training loss: 0.285.. Test loss: 0.299.. Train Accuracy: 0.895 Test Accuracy: 0.894..\n",
            "Epoch: 5/30.. Training loss: 0.264.. Test loss: 0.300.. Train Accuracy: 0.903 Test Accuracy: 0.888..\n",
            "Epoch: 6/30.. Training loss: 0.247.. Test loss: 0.294.. Train Accuracy: 0.910 Test Accuracy: 0.891..\n",
            "Epoch: 7/30.. Training loss: 0.231.. Test loss: 0.278.. Train Accuracy: 0.915 Test Accuracy: 0.899..\n",
            "Epoch: 8/30.. Training loss: 0.218.. Test loss: 0.272.. Train Accuracy: 0.919 Test Accuracy: 0.902..\n",
            "Epoch: 9/30.. Training loss: 0.205.. Test loss: 0.276.. Train Accuracy: 0.924 Test Accuracy: 0.905..\n",
            "Epoch: 10/30.. Training loss: 0.194.. Test loss: 0.277.. Train Accuracy: 0.929 Test Accuracy: 0.903..\n",
            "Epoch: 11/30.. Training loss: 0.184.. Test loss: 0.277.. Train Accuracy: 0.931 Test Accuracy: 0.903..\n",
            "Epoch: 12/30.. Training loss: 0.175.. Test loss: 0.259.. Train Accuracy: 0.935 Test Accuracy: 0.911..\n",
            "Epoch: 13/30.. Training loss: 0.165.. Test loss: 0.292.. Train Accuracy: 0.939 Test Accuracy: 0.906..\n",
            "Epoch: 14/30.. Training loss: 0.157.. Test loss: 0.278.. Train Accuracy: 0.941 Test Accuracy: 0.905..\n",
            "Epoch: 15/30.. Training loss: 0.147.. Test loss: 0.286.. Train Accuracy: 0.944 Test Accuracy: 0.904..\n",
            "Epoch: 16/30.. Training loss: 0.139.. Test loss: 0.286.. Train Accuracy: 0.947 Test Accuracy: 0.907..\n",
            "Epoch: 17/30.. Training loss: 0.132.. Test loss: 0.295.. Train Accuracy: 0.951 Test Accuracy: 0.909..\n",
            "Epoch: 18/30.. Training loss: 0.127.. Test loss: 0.293.. Train Accuracy: 0.952 Test Accuracy: 0.909..\n",
            "Epoch: 19/30.. Training loss: 0.118.. Test loss: 0.297.. Train Accuracy: 0.955 Test Accuracy: 0.905..\n",
            "Epoch: 20/30.. Training loss: 0.112.. Test loss: 0.325.. Train Accuracy: 0.958 Test Accuracy: 0.907..\n",
            "Epoch: 21/30.. Training loss: 0.104.. Test loss: 0.362.. Train Accuracy: 0.961 Test Accuracy: 0.906..\n",
            "Epoch: 22/30.. Training loss: 0.100.. Test loss: 0.365.. Train Accuracy: 0.962 Test Accuracy: 0.903..\n",
            "Epoch: 23/30.. Training loss: 0.096.. Test loss: 0.349.. Train Accuracy: 0.963 Test Accuracy: 0.899..\n",
            "Epoch: 24/30.. Training loss: 0.087.. Test loss: 0.362.. Train Accuracy: 0.967 Test Accuracy: 0.904..\n",
            "Epoch: 25/30.. Training loss: 0.085.. Test loss: 0.388.. Train Accuracy: 0.968 Test Accuracy: 0.907..\n",
            "Epoch: 26/30.. Training loss: 0.079.. Test loss: 0.400.. Train Accuracy: 0.970 Test Accuracy: 0.907..\n",
            "Epoch: 27/30.. Training loss: 0.080.. Test loss: 0.397.. Train Accuracy: 0.970 Test Accuracy: 0.899..\n",
            "Epoch: 28/30.. Training loss: 0.072.. Test loss: 0.423.. Train Accuracy: 0.973 Test Accuracy: 0.904..\n",
            "Epoch: 29/30.. Training loss: 0.069.. Test loss: 0.450.. Train Accuracy: 0.974 Test Accuracy: 0.906..\n",
            "Epoch: 30/30.. Training loss: 0.065.. Test loss: 0.451.. Train Accuracy: 0.975 Test Accuracy: 0.907..\n"
          ]
        }
      ],
      "source": [
        "# Train network - LENET-5\n",
        "\n",
        "model = LENET5()\n",
        "criterion = nn.NLLLoss()\n",
        "optimizer = optim.Adam(model.parameters(), lr=0.001)\n",
        "\n",
        "epochs = 30\n",
        "\n",
        "train_losses_lenet5, test_losses_lenet5 = [], []\n",
        "accuracy_train_lenet5, accuracy_test_lenet5 = [], []\n",
        "best_accuracy = 0\n",
        "\n",
        "for e in range(epochs):\n",
        "  running_loss = 0\n",
        "  accuracy_train = 0\n",
        "  for images, labels in trainloader:\n",
        "    \n",
        "    optimizer.zero_grad()\n",
        "\n",
        "    log_ps = model(images)\n",
        "    loss = criterion(log_ps, labels)\n",
        "    loss.backward()\n",
        "    optimizer.step()\n",
        "    \n",
        "    running_loss += loss.item()\n",
        "    \n",
        "    ps = torch.exp(log_ps)\n",
        "    top_p, top_class = ps.topk(1, dim=1)\n",
        "    equals = top_class == labels.view(*top_class.shape)\n",
        "    accuracy_train += torch.mean(equals.type(torch.FloatTensor))\n",
        "\n",
        "\n",
        "  else:\n",
        "    test_loss = 0\n",
        "    accuracy_test = 0\n",
        "    counter = 0\n",
        "\n",
        "    with torch.no_grad():\n",
        "      model.eval()\n",
        "      for images, labels in testloader:\n",
        "        log_ps = model(images)\n",
        "        test_loss += criterion(log_ps, labels)\n",
        "\n",
        "        ps = torch.exp(log_ps)\n",
        "        top_p, top_class = ps.topk(1, dim=1)\n",
        "        equals = top_class == labels.view(*top_class.shape)\n",
        "        accuracy_test += torch.mean(equals.type(torch.FloatTensor))\n",
        "\n",
        "    model.train()\n",
        "\n",
        "    train_losses_lenet5.append(running_loss/len(trainloader))\n",
        "    test_losses_lenet5.append(test_loss/len(testloader))\n",
        "    accuracy_train_lenet5.append(accuracy_train / len(trainloader))\n",
        "    accuracy_test_lenet5.append(accuracy_test / len(testloader))\n",
        "\n",
        "    # Save model parameters\n",
        "    if (accuracy_test / len(testloader)) > best_accuracy:\n",
        "      torch.save(model.state_dict(), models_path +'/lenet5.pth')\n",
        "      torch.save((accuracy_train_lenet5, accuracy_test_lenet5), models_path + '/accuracies_lenet5.pth')\n",
        "      best_accuracy = accuracy_test / len(testloader)\n",
        "\n",
        "    print (\"Epoch: {}/{}..\".format(e+1, epochs),\n",
        "           \"Training loss: {:.3f}..\".format(train_losses_lenet5[-1]),\n",
        "           \"Test loss: {:.3f}..\".format(test_losses_lenet5[-1]),\n",
        "           \"Train Accuracy: {:.3f}\".format(accuracy_train / len(trainloader)),\n",
        "           \"Test Accuracy: {:.3f}..\".format(accuracy_test / len(testloader)))"
      ]
    },
    {
      "cell_type": "code",
      "execution_count": null,
      "metadata": {
        "id": "qUO4xeH2MTYK"
      },
      "outputs": [],
      "source": [
        "# Save model parameters\n",
        "torch.save(model.state_dict(), '/content/drive/MyDrive/Deep Learning Course/HW1/lenet5.pth')\n",
        "torch.save((accuracy_train_lenet5, accuracy_test_lenet5), '/content/drive/MyDrive/Deep Learning Course/HW1/accuracies_lenet5.pth')"
      ]
    },
    {
      "cell_type": "markdown",
      "metadata": {
        "id": "qO4FJe6eMABe"
      },
      "source": [
        "## Weight Decay"
      ]
    },
    {
      "cell_type": "code",
      "execution_count": null,
      "metadata": {
        "id": "hIXpktZsjKxc"
      },
      "outputs": [],
      "source": [
        "# Train network - wd\n",
        "\n",
        "model = LENET5()\n",
        "criterion = nn.NLLLoss()\n",
        "optimizer = optim.Adam(model.parameters(), lr=0.001, weight_decay=0.001)\n",
        "\n",
        "epochs = 30\n",
        "\n",
        "train_losses_wd, test_losses_wd = [], []\n",
        "accuracy_train_wd, accuracy_test_wd = [], []\n",
        "\n",
        "for e in range(epochs):\n",
        "  running_loss = 0\n",
        "  accuracy_train = 0\n",
        "  for images, labels in trainloader:\n",
        "    \n",
        "    optimizer.zero_grad()\n",
        "\n",
        "    log_ps = model(images)\n",
        "    loss = criterion(log_ps, labels)\n",
        "    loss.backward()\n",
        "    optimizer.step()\n",
        "    \n",
        "    running_loss += loss.item()\n",
        "    \n",
        "    ps = torch.exp(log_ps)\n",
        "    top_p, top_class = ps.topk(1, dim=1)\n",
        "    equals = top_class == labels.view(*top_class.shape)\n",
        "    accuracy_train += torch.mean(equals.type(torch.FloatTensor))\n",
        "\n",
        "\n",
        "  else:\n",
        "    test_loss = 0\n",
        "    accuracy_test = 0\n",
        "    counter = 0\n",
        "\n",
        "    with torch.no_grad():\n",
        "      model.eval()\n",
        "      for images, labels in testloader:\n",
        "        log_ps = model(images)\n",
        "        test_loss += criterion(log_ps, labels)\n",
        "\n",
        "        ps = torch.exp(log_ps)\n",
        "        top_p, top_class = ps.topk(1, dim=1)\n",
        "        equals = top_class == labels.view(*top_class.shape)\n",
        "        accuracy_test += torch.mean(equals.type(torch.FloatTensor))\n",
        "\n",
        "    model.train()\n",
        "\n",
        "    train_losses_wd.append(running_loss/len(trainloader))\n",
        "    test_losses_wd.append(test_loss/len(testloader))\n",
        "    accuracy_train_wd.append(accuracy_train / len(trainloader))\n",
        "    accuracy_test_wd.append(accuracy_test / len(testloader))\n",
        "\n",
        "    # Save model parameters\n",
        "    if (accuracy_test / len(testloader)) > best_accuracy:\n",
        "      torch.save(model.state_dict(), models_path +'/lenet5_wd.pth')\n",
        "      torch.save((accuracy_train_lenet5, accuracy_test_lenet5), models_path + '/accuracies_wd.pth')\n",
        "      best_accuracy = accuracy_test / len(testloader)\n",
        "\n",
        "    print (\"Epoch: {}/{}..\".format(e+1, epochs),\n",
        "           \"Training loss: {:.3f}..\".format(train_losses_wd[-1]),\n",
        "           \"Test loss: {:.3f}..\".format(test_losses_wd[-1]),\n",
        "           \"Train Accuracy: {:.3f}\".format(accuracy_train / len(trainloader)),\n",
        "           \"Test Accuracy: {:.3f}..\".format(accuracy_test / len(testloader)))\n",
        "           "
      ]
    },
    {
      "cell_type": "code",
      "execution_count": null,
      "metadata": {
        "id": "lPyJQ0aEvgZE"
      },
      "outputs": [],
      "source": [
        "# Save model parameters\n",
        "torch.save(model.state_dict(), models_path + '/lenet5_wd.pth')\n",
        "torch.save((accuracy_train_wd, accuracy_test_wd), models_path + '/accuracies_wd.pth')"
      ]
    },
    {
      "cell_type": "markdown",
      "metadata": {
        "id": "kx5fK9WIM9EL"
      },
      "source": [
        "## Dropout"
      ]
    },
    {
      "cell_type": "code",
      "execution_count": null,
      "metadata": {
        "id": "tC1q0lrOum15"
      },
      "outputs": [],
      "source": [
        "# Train network - dropout\n",
        "model = LENET5_dropout()\n",
        "criterion = nn.NLLLoss()\n",
        "optimizer = optim.Adam(model.parameters(), lr=0.001)\n",
        "\n",
        "epochs = 30\n",
        "\n",
        "train_losses_dropout, test_losses_dropout = [], []\n",
        "accuracy_train_dropout, accuracy_test_dropout = [], []\n",
        "\n",
        "for e in range(epochs):\n",
        "  running_loss = 0\n",
        "  accuracy_train = 0\n",
        "  for images, labels in trainloader:\n",
        "    \n",
        "    optimizer.zero_grad()\n",
        "\n",
        "    log_ps = model(images)\n",
        "    loss = criterion(log_ps, labels)\n",
        "    loss.backward()\n",
        "    optimizer.step()\n",
        "    \n",
        "    running_loss += loss.item()\n",
        "    \n",
        "    ps = torch.exp(log_ps)\n",
        "    top_p, top_class = ps.topk(1, dim=1)\n",
        "    equals = top_class == labels.view(*top_class.shape)\n",
        "    accuracy_train += torch.mean(equals.type(torch.FloatTensor))\n",
        "\n",
        "\n",
        "  else:\n",
        "    test_loss = 0\n",
        "    accuracy_test = 0\n",
        "    counter = 0\n",
        "\n",
        "    with torch.no_grad():\n",
        "      model.eval()\n",
        "      for images, labels in testloader:\n",
        "        log_ps = model(images)\n",
        "        test_loss += criterion(log_ps, labels)\n",
        "\n",
        "        ps = torch.exp(log_ps)\n",
        "        top_p, top_class = ps.topk(1, dim=1)\n",
        "        equals = top_class == labels.view(*top_class.shape)\n",
        "        accuracy_test += torch.mean(equals.type(torch.FloatTensor))\n",
        "\n",
        "    model.train()\n",
        "\n",
        "    train_losses_dropout.append(running_loss/len(trainloader))\n",
        "    test_losses_dropout.append(test_loss/len(testloader))\n",
        "    accuracy_train_dropout.append(accuracy_train / len(trainloader))\n",
        "    accuracy_test_dropout.append(accuracy_test / len(testloader))\n",
        "\n",
        "    # Save model parameters\n",
        "    if (accuracy_test / len(testloader)) > best_accuracy:\n",
        "      torch.save(model.state_dict(), models_path +'/lenet5_dropout.pth')\n",
        "      torch.save((accuracy_train_lenet5, accuracy_test_lenet5), models_path + '/accuracies_dropout.pth')\n",
        "      best_accuracy = accuracy_test / len(testloader)\n",
        "\n",
        "    print (\"Epoch: {}/{}..\".format(e+1, epochs),\n",
        "           \"Training loss: {:.3f}..\".format(train_losses_dropout[-1]),\n",
        "           \"Test loss: {:.3f}..\".format(test_losses_dropout[-1]),\n",
        "           \"Train Accuracy: {:.3f}\".format(accuracy_train / len(trainloader)),\n",
        "           \"Test Accuracy: {:.3f}..\".format(accuracy_test / len(testloader)))\n",
        "           "
      ]
    },
    {
      "cell_type": "code",
      "execution_count": null,
      "metadata": {
        "id": "-dCUi9OGNHZr"
      },
      "outputs": [],
      "source": [
        "# Save model parameters\n",
        "torch.save(model.state_dict(), models_path + '/lenet5_dropout.pth')\n",
        "torch.save((accuracy_train_dropout, accuracy_test_dropout), models_path + '/accuracies_dropout.pth')"
      ]
    },
    {
      "cell_type": "markdown",
      "metadata": {
        "id": "6wKV9iOLNCkX"
      },
      "source": [
        "## Batch Normalization "
      ]
    },
    {
      "cell_type": "code",
      "execution_count": null,
      "metadata": {
        "colab": {
          "background_save": true
        },
        "id": "d6pLAj2SuoXA"
      },
      "outputs": [],
      "source": [
        "# Train network - bn\n",
        "model = LENET5_bn()\n",
        "criterion = nn.NLLLoss()\n",
        "optimizer = optim.Adam(model.parameters(), lr=0.001)\n",
        "\n",
        "\n",
        "epochs = 30\n",
        "\n",
        "train_losses_bn, test_losses_bn = [], []\n",
        "accuracy_train_bn, accuracy_test_bn = [], []\n",
        "\n",
        "\n",
        "for e in range(epochs):\n",
        "  running_loss = 0\n",
        "  accuracy_train = 0\n",
        "  for images, labels in trainloader:\n",
        "    optimizer.zero_grad()\n",
        "\n",
        "    log_ps = model(images)\n",
        "    loss = criterion(log_ps, labels)\n",
        "    loss.backward()\n",
        "    optimizer.step()\n",
        "    \n",
        "    running_loss += loss.item()\n",
        "    \n",
        "    ps = torch.exp(log_ps)\n",
        "    top_p, top_class = ps.topk(1, dim=1)\n",
        "    equals = top_class == labels.view(*top_class.shape)\n",
        "    accuracy_train += torch.mean(equals.type(torch.FloatTensor))\n",
        "\n",
        "\n",
        "  else:\n",
        "    test_loss = 0\n",
        "    accuracy_test = 0\n",
        "    counter = 0\n",
        "\n",
        "    with torch.no_grad():\n",
        "      model.eval()\n",
        "      for images, labels in testloader:\n",
        "        log_ps = model(images)\n",
        "        test_loss += criterion(log_ps, labels)\n",
        "\n",
        "        ps = torch.exp(log_ps)\n",
        "        top_p, top_class = ps.topk(1, dim=1)\n",
        "        equals = top_class == labels.view(*top_class.shape)\n",
        "        accuracy_test += torch.mean(equals.type(torch.FloatTensor))\n",
        "\n",
        "    model.train()\n",
        "\n",
        "    train_losses_bn.append(running_loss/len(trainloader))\n",
        "    test_losses_bn.append(test_loss/len(testloader))\n",
        "    accuracy_train_bn.append(accuracy_train / len(trainloader))\n",
        "    accuracy_test_bn.append(accuracy_test / len(testloader))\n",
        "\n",
        "    # Save model parameters\n",
        "    if (accuracy_test / len(testloader)) > best_accuracy:\n",
        "      torch.save(model.state_dict(), models_path +'/lenet5_wd.pth')\n",
        "      torch.save((accuracy_train_lenet5, accuracy_test_lenet5), models_path + '/accuracies_wd.pth')\n",
        "      best_accuracy = accuracy_test / len(testloader)\n",
        "\n",
        "    print (\"Epoch: {}/{}..\".format(e+1, epochs),\n",
        "           \"Training loss: {:.3f}..\".format(train_losses_bn[-1]),\n",
        "           \"Test loss: {:.3f}..\".format(test_losses_bn[-1]),\n",
        "           \"Train Accuracy: {:.3f}\".format(accuracy_train / len(trainloader)),\n",
        "           \"Test Accuracy: {:.3f}..\".format(accuracy_test / len(testloader)))\n",
        "           "
      ]
    },
    {
      "cell_type": "code",
      "execution_count": null,
      "metadata": {
        "id": "aJICdp0Xv1Op"
      },
      "outputs": [],
      "source": [
        "# Save model parameters\n",
        "torch.save(model.state_dict(), models_path + '/lenet5_bn.pth')\n",
        "torch.save((accuracy_train_bn, accuracy_test_bn), models_path + '/accuracies_bn.pth')"
      ]
    },
    {
      "cell_type": "markdown",
      "metadata": {
        "id": "oJow04YULRxs"
      },
      "source": [
        "<p>Compare the usage of the following techniques with Lenet5: </p>\n",
        "<ul>\n",
        "<li>Dropout (at the hidden layer)</li>\n",
        "<li>Weight Decay (also known as #2 loss)</li>\n",
        "<li>Batch Normalization</li>\n",
        "</ul> \n"
      ]
    },
    {
      "cell_type": "markdown",
      "metadata": {
        "id": "6XjWeP-mvrMh"
      },
      "source": [
        "# Load and test trained networks' parameters"
      ]
    },
    {
      "cell_type": "code",
      "execution_count": null,
      "metadata": {
        "colab": {
          "base_uri": "https://localhost:8080/"
        },
        "id": "-KCfZ9bRI2DM",
        "outputId": "ed5baeca-ddd0-4217-d6f7-37978cae5cd7"
      },
      "outputs": [
        {
          "data": {
            "text/plain": [
              "<All keys matched successfully>"
            ]
          },
          "execution_count": 34,
          "metadata": {},
          "output_type": "execute_result"
        }
      ],
      "source": [
        "# Load LENET-5 with dropout\n",
        "model = LENET5_dropout()\n",
        "state_dict = torch.load(models_path + '/lenet5_dropout.pth')\n",
        "model.load_state_dict(state_dict)"
      ]
    },
    {
      "cell_type": "code",
      "execution_count": null,
      "metadata": {
        "id": "h9KqD54Txpfx"
      },
      "outputs": [],
      "source": []
    },
    {
      "cell_type": "markdown",
      "metadata": {
        "id": "-gjjk2O6kHy2"
      },
      "source": [
        "# Plots and Accuracy table"
      ]
    },
    {
      "cell_type": "code",
      "execution_count": null,
      "metadata": {
        "id": "i1x7dZVOzX6I"
      },
      "outputs": [],
      "source": [
        "%matplotlib inline\n",
        "%config InlineBackend.figure_format = 'retina'\n",
        "\n",
        "import matplotlib.pyplot as plt"
      ]
    },
    {
      "cell_type": "code",
      "execution_count": null,
      "metadata": {
        "id": "WRWwbvpl6MZZ"
      },
      "outputs": [],
      "source": [
        "#Load Accuracies\n",
        "accuracies_lenet5 = torch.load(models_path + '/accuracies_lenet5.pth')\n",
        "accuracy_train_lenet5 = accuracies_lenet5[0]\n",
        "accuracy_test_lenet5 = accuracies_lenet5[1]\n",
        "\n",
        "accuracies_wd = torch.load(models_path + '/accuracies_wd.pth')\n",
        "accuracy_train_wd = accuracies_wd[0]\n",
        "accuracy_test_wd = accuracies_wd[1]\n",
        "\n",
        "accuracies_dropout = torch.load(models_path + '/accuracies_dropout.pth')\n",
        "accuracy_train_dropout = accuracies_dropout[0]\n",
        "accuracy_test_dropout = accuracies_dropout[1]\n",
        "\n",
        "accuracies_bn = torch.load(models_path + '/accuracies_bn.pth')\n",
        "accuracy_train_bn = accuracies_bn[0]\n",
        "accuracy_test_bn = accuracies_bn[1]\n"
      ]
    },
    {
      "cell_type": "code",
      "execution_count": null,
      "metadata": {
        "colab": {
          "base_uri": "https://localhost:8080/",
          "height": 469
        },
        "id": "tQfco_RwQYGz",
        "outputId": "8db2fb06-3aaf-4126-e656-e93205945848"
      },
      "outputs": [
        {
          "data": {
            "text/plain": [
              "Text(0.5, 1.0, 'LENET-5 - No regularization')"
            ]
          },
          "execution_count": 31,
          "metadata": {},
          "output_type": "execute_result"
        },
        {
          "data": {
            "image/png": "[encoded data removed]",
            "text/plain": [
              "<Figure size 640x480 with 1 Axes>"
            ]
          },
          "metadata": {},
          "output_type": "display_data"
        }
      ],
      "source": [
        "plt.plot(accuracy_train_lenet5, label='Training accuracy')\n",
        "plt.plot(accuracy_test_lenet5, label='Validation accuracy')\n",
        "plt.legend(frameon=False)\n",
        "plt.title('LENET-5 - No regularization')"
      ]
    },
    {
      "cell_type": "code",
      "execution_count": null,
      "metadata": {
        "colab": {
          "base_uri": "https://localhost:8080/",
          "height": 469
        },
        "id": "MoThAL4fChZx",
        "outputId": "dc8a145f-9beb-4d3b-a57e-af757cab399b"
      },
      "outputs": [
        {
          "data": {
            "text/plain": [
              "Text(0.5, 1.0, 'LENET-5 with Weight Decay')"
            ]
          },
          "execution_count": 11,
          "metadata": {},
          "output_type": "execute_result"
        },
        {
          "data": {
            "image/png": "[encoded data removed]",
            "text/plain": [
              "<Figure size 640x480 with 1 Axes>"
            ]
          },
          "metadata": {},
          "output_type": "display_data"
        }
      ],
      "source": [
        "plt.plot(accuracy_train_wd, label='Training accuracy')\n",
        "plt.plot(accuracy_test_wd, label='Validation accuracy')\n",
        "plt.legend(frameon=False)\n",
        "plt.title('LENET-5 with Weight Decay')"
      ]
    },
    {
      "cell_type": "code",
      "execution_count": null,
      "metadata": {
        "colab": {
          "base_uri": "https://localhost:8080/",
          "height": 469
        },
        "id": "rrxtyUkpCiBQ",
        "outputId": "aeaeb8a6-aeb2-43aa-b432-24b6f0eb8a86"
      },
      "outputs": [
        {
          "data": {
            "text/plain": [
              "Text(0.5, 1.0, 'LENET-5 with Dropout')"
            ]
          },
          "execution_count": 12,
          "metadata": {},
          "output_type": "execute_result"
        },
        {
          "data": {
            "image/png": "[encoded data removed]",
            "text/plain": [
              "<Figure size 640x480 with 1 Axes>"
            ]
          },
          "metadata": {},
          "output_type": "display_data"
        }
      ],
      "source": [
        "plt.plot(accuracy_train_dropout, label='Training accuracy')\n",
        "plt.plot(accuracy_test_dropout, label='Validation accuracy')\n",
        "plt.legend(frameon=False)\n",
        "plt.title('LENET-5 with Dropout')"
      ]
    },
    {
      "cell_type": "code",
      "execution_count": null,
      "metadata": {
        "colab": {
          "base_uri": "https://localhost:8080/",
          "height": 469
        },
        "id": "hpGhTUGwCigv",
        "outputId": "be7a530a-2a1b-4604-e028-0ebab15b5af9"
      },
      "outputs": [
        {
          "data": {
            "text/plain": [
              "Text(0.5, 1.0, 'LENET-5 with Batch Normaliztion')"
            ]
          },
          "execution_count": 13,
          "metadata": {},
          "output_type": "execute_result"
        },
        {
          "data": {
            "image/png": "[encoded data removed]",
            "text/plain": [
              "<Figure size 640x480 with 1 Axes>"
            ]
          },
          "metadata": {},
          "output_type": "display_data"
        }
      ],
      "source": [
        "plt.plot(accuracy_train_bn, label='Training accuracy')\n",
        "plt.plot(accuracy_test_bn, label='Validation accuracy')\n",
        "plt.legend(frameon=False)\n",
        "plt.title('LENET-5 with Batch Normaliztion')"
      ]
    },
    {
      "cell_type": "code",
      "execution_count": null,
      "metadata": {
        "colab": {
          "base_uri": "https://localhost:8080/"
        },
        "id": "5I8LEEfHQjgJ",
        "outputId": "5b570b26-7c61-445f-be80-a225c073743f"
      },
      "outputs": [
        {
          "name": "stdout",
          "output_type": "stream",
          "text": [
            "╒════════════════════╤═════════════════════╤════════════════╤═══════════╤═══════════════════════╕\n",
            "│                    │   No Regularization │   Weight Decay │   Dropout │   Batch Normalization │\n",
            "╞════════════════════╪═════════════════════╪════════════════╪═══════════╪═══════════════════════╡\n",
            "│ Train accuracy [%] │             97.4214 │        93.127  │   89.5639 │               98.1593 │\n",
            "├────────────────────┼─────────────────────┼────────────────┼───────────┼───────────────────────┤\n",
            "│ Test accuracy [%]  │             90.2966 │        90.3264 │   90.3861 │               90.2568 │\n",
            "╘════════════════════╧═════════════════════╧════════════════╧═══════════╧═══════════════════════╛\n"
          ]
        }
      ],
      "source": [
        "# Summary in a table\n",
        "\n",
        "from tabulate import tabulate\n",
        "\n",
        "data = [['', 'No Regularization', 'Weight Decay', 'Dropout', 'Batch Normalization'],\n",
        "        ['Train accuracy [%]', accuracy_train_lenet5[-1]*100, accuracy_train_wd[-1]*100, accuracy_train_dropout[-1]*100, accuracy_train_bn[-1]*100],\n",
        "        ['Test accuracy [%]', accuracy_test_lenet5[-1]*100, accuracy_test_wd[-1]*100, accuracy_test_dropout[-1]*100, accuracy_test_bn[-1]*100]]\n",
        "\n",
        "print(tabulate(data, headers='firstrow', tablefmt='fancy_grid'))"
      ]
    }
  ],
  "metadata": {
    "accelerator": "GPU",
    "colab": {
      "collapsed_sections": [
        "8kXyKHWqj33T",
        "IDiqWc4lkEs4",
        "Lk5ce5bwkLYD"
      ],
      "provenance": [],
      "mount_file_id": "1M-_X-Y691EHAcBPlJhBiu4ZZ_r1ns7CU",
      "authorship_tag": "ABX9TyNy0mAe0CDea8JevJfnNUrM",
      "include_colab_link": true
    },
    "gpuClass": "standard",
    "kernelspec": {
      "display_name": "Python 3",
      "name": "python3"
    },
    "language_info": {
      "name": "python"
    }
  },
  "nbformat": 4,
  "nbformat_minor": 0
}