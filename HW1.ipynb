{
  "cells": [
    {
      "cell_type": "markdown",
      "metadata": {
        "id": "view-in-github",
        "colab_type": "text"
      },
      "source": [
        "<a href=\"https://colab.research.google.com/github/Sarah-Shitrit/FashionMNIST/blob/main/HW1.ipynb\" target=\"_parent\"><img src=\"https://colab.research.google.com/assets/colab-badge.svg\" alt=\"Open In Colab\"/></a>"
      ]
    },
    {
      "cell_type": "markdown",
      "metadata": {
        "id": "G2dsy9l-jd0-"
      },
      "source": [
        "# Imports and downloads"
      ]
    },
    {
      "cell_type": "code",
      "execution_count": 15,
      "metadata": {
        "id": "eoaIZZi3JaBY"
      },
      "outputs": [],
      "source": [
        "import torch\n",
        "from torch import nn, optim\n",
        "import torch.nn.functional as F\n",
        "import matplotlib.pyplot as plt"
      ]
    },
    {
      "cell_type": "code",
      "execution_count": 16,
      "metadata": {
        "id": "kcV8ljEPidLq"
      },
      "outputs": [],
      "source": [
        "from torchvision import datasets, transforms\n",
        "\n",
        "# Define a transform to normalize the data\n",
        "transform = transforms.Compose([transforms.ToTensor(),\n",
        "                                transforms.Normalize((0.5,), (0.5,))])\n",
        "# Download and load the training data\n",
        "trainset = datasets.FashionMNIST('~/.pytorch/F_MNIST_data/', download=True, train=True, transform=transform)\n",
        "trainloader = torch.utils.data.DataLoader(trainset, batch_size=64, shuffle=True)\n",
        "\n",
        "# Download and load the test data\n",
        "testset = datasets.FashionMNIST('~/.pytorch/F_MNIST_data/', download=True, train=False, transform=transform)\n",
        "testloader = torch.utils.data.DataLoader(testset, batch_size=64, shuffle=True)"
      ]
    },
    {
      "cell_type": "markdown",
      "metadata": {
        "id": "1Zs_RdU_jmwd"
      },
      "source": [
        "# Networks"
      ]
    },
    {
      "cell_type": "markdown",
      "metadata": {
        "id": "8kXyKHWqj33T"
      },
      "source": [
        "## LENET-5 with wd"
      ]
    },
    {
      "cell_type": "code",
      "execution_count": null,
      "metadata": {
        "id": "a14XX5zcJkSZ"
      },
      "outputs": [],
      "source": [
        "# Build network, LENET-5\n",
        "class LENET5(nn.Module):\n",
        "  def __init__(self):\n",
        "    super().__init__()\n",
        "    self.fc1 = nn.Conv2d(1, 6, 5, padding='same')\n",
        "    self.fc2 = nn.MaxPool2d(2, stride=2)\n",
        "    self.fc3 = nn.Conv2d(6, 16, 5)\n",
        "    self.fc4 = nn.MaxPool2d(2, stride=2)\n",
        "    self.fc5 = nn.Conv2d(16, 120, 5)\n",
        "    self.fc6 = nn.Linear(120, 84)\n",
        "    self.fc7 = nn.Linear(84, 10)\n",
        "\n",
        "  def forward(self, x):\n",
        "    x = F.relu(self.fc1(x))\n",
        "    x = F.relu(self.fc2(x))\n",
        "    x = F.relu(self.fc3(x))\n",
        "    x = F.relu(self.fc4(x))\n",
        "    x = F.relu(self.fc5(x))\n",
        "    x = x.view(x.shape[0], -1)\n",
        "    x = F.relu(self.fc6(x))\n",
        "    x = F.log_softmax(self.fc7(x), dim=1) \n",
        "\n",
        "    return x\n",
        "\n"
      ]
    },
    {
      "cell_type": "code",
      "execution_count": null,
      "metadata": {
        "id": "ucmeLYwMexLS"
      },
      "outputs": [],
      "source": [
        "# weight decay\n",
        "model = LENET5()\n",
        "criterion = nn.NLLLoss()\n",
        "optimizer_wd = optim.Adam(model.parameters(), lr=0.03, weight_decay=0.05)"
      ]
    },
    {
      "cell_type": "markdown",
      "metadata": {
        "id": "IDiqWc4lkEs4"
      },
      "source": [
        "## LENET-5 with dropout"
      ]
    },
    {
      "cell_type": "code",
      "execution_count": 17,
      "metadata": {
        "id": "rIBIZ5PjHIxR"
      },
      "outputs": [],
      "source": [
        "# LENET-5 with dropout\n",
        "class LENET5_dropout(nn.Module):\n",
        "  def __init__(self):\n",
        "    super().__init__()\n",
        "    self.fc1 = nn.Conv2d(1, 6, 5, padding='same')\n",
        "    self.fc2 = nn.MaxPool2d(2, stride=2)\n",
        "    self.fc3 = nn.Conv2d(6, 16, 5)\n",
        "    self.fc4 = nn.MaxPool2d(2, stride=2)\n",
        "    self.fc5 = nn.Conv2d(16, 120, 5)\n",
        "    self.fc6 = nn.Linear(120, 84)\n",
        "    self.fc7 = nn.Linear(84, 10)\n",
        "\n",
        "    self.dropout = nn.Dropout(0.2)\n",
        "\n",
        "  def forward(self, x):\n",
        "    x = F.relu(self.fc1(x))\n",
        "    x = self.dropout(x)\n",
        "    x = F.relu(self.fc2(x))\n",
        "    x = self.dropout(x)\n",
        "    x = F.relu(self.fc3(x))\n",
        "    x = self.dropout(x)\n",
        "    x = F.relu(self.fc4(x))\n",
        "    x = self.dropout(x)\n",
        "    x = F.relu(self.fc5(x))\n",
        "    x = self.dropout(x)\n",
        "    x = x.view(x.shape[0], -1)\n",
        "    x = F.relu(self.fc6(x))\n",
        "    x = F.log_softmax(self.fc7(x), dim=1) \n",
        "\n",
        "    return x"
      ]
    },
    {
      "cell_type": "code",
      "execution_count": null,
      "metadata": {
        "id": "SbJ5hRBNjHCp"
      },
      "outputs": [],
      "source": [
        "# Additional network parameters\n",
        "model = LENET5_dropout()\n",
        "criterion = nn.NLLLoss()\n",
        "optimizer = optim.Adam(model.parameters(), lr=0.03)"
      ]
    },
    {
      "cell_type": "markdown",
      "metadata": {
        "id": "Lk5ce5bwkLYD"
      },
      "source": [
        "## LENET-5 with BN"
      ]
    },
    {
      "cell_type": "code",
      "source": [
        "print(len(testloader))\n",
        "\n",
        "print(len(testloader.dataset))\n",
        "print(len(testloader.dataset)/len(trainloader))\n",
        "print(len(testloader.dataset)/64)"
      ],
      "metadata": {
        "colab": {
          "base_uri": "https://localhost:8080/"
        },
        "id": "P3UEBqNriU98",
        "outputId": "1373ebe7-fb8c-433f-a7fe-d97923d766c6"
      },
      "execution_count": 14,
      "outputs": [
        {
          "output_type": "stream",
          "name": "stdout",
          "text": [
            "157\n",
            "10000\n",
            "10.660980810234541\n",
            "156.25\n"
          ]
        }
      ]
    },
    {
      "cell_type": "code",
      "execution_count": null,
      "metadata": {
        "id": "aKi-aKxkWCJ2"
      },
      "outputs": [],
      "source": [
        "# LENET-5, BN\n",
        "class LENET5_bn(nn.Module):\n",
        "  def __init__(self):\n",
        "    super().__init__()\n",
        "    self.fc1 = nn.Conv2d(1, 6, 5, padding='same')\n",
        "    self.fc1_bn = nn.BatchNorm2d(6)\n",
        "\n",
        "    self.fc2 = nn.MaxPool2d(2, stride=2)\n",
        "    self.fc2_bn = nn.BatchNorm2d(6)\n",
        "\n",
        "    self.fc3 = nn.Conv2d(6, 16, 5)\n",
        "    self.fc3_bn = nn.BatchNorm2d(16)\n",
        "\n",
        "    self.fc4 = nn.MaxPool2d(2, stride=2)\n",
        "    self.fc4_bn = nn.BatchNorm2d(16)\n",
        "    \n",
        "    self.fc5 = nn.Conv2d(16, 120, 5)\n",
        "    self.fc5_bn = nn.BatchNorm2d(120)\n",
        "    \n",
        "    self.fc6 = nn.Linear(120, 84)\n",
        "    self.fc6_bn = nn.BatchNorm2d(84)\n",
        "    \n",
        "    self.fc7 = nn.Linear(84, 10)\n",
        "\n",
        "  def forward(self, x):\n",
        "    x = self.fc1(x)\n",
        "    x = F.relu(self.fc1_bn(x))\n",
        "    x = self.fc2(x)\n",
        "    x = F.relu(self.fc2_bn(x))\n",
        "    x = self.fc3(x)\n",
        "    x = F.relu(self.fc3_bn(x))\n",
        "    x = self.fc4(x)\n",
        "    x = F.relu(self.fc4_bn(x))\n",
        "    x = self.fc5(x)\n",
        "    x = F.relu(self.fc5_bn(x))\n",
        "    x = x.view(x.shape[0], -1)\n",
        "    x = self.fc6(x)\n",
        "    x = F.relu(self.fc6_bn(x))\n",
        "    x = F.log_softmax(self.fc7(x), dim=1) \n",
        "\n",
        "    return x"
      ]
    },
    {
      "cell_type": "code",
      "execution_count": null,
      "metadata": {
        "id": "NF66xV98kU05"
      },
      "outputs": [],
      "source": [
        "# Additional network parameters\n",
        "model = LENET5()\n",
        "criterion = nn.NLLLoss()\n",
        "optimizer = optim.Adam(model.parameters(), lr=0.03)"
      ]
    },
    {
      "cell_type": "markdown",
      "metadata": {
        "id": "69Lm2DSEkahD"
      },
      "source": [
        "# Train"
      ]
    },
    {
      "cell_type": "code",
      "execution_count": null,
      "metadata": {
        "colab": {
          "base_uri": "https://localhost:8080/"
        },
        "id": "hIXpktZsjKxc",
        "outputId": "bb3f5dc4-e125-4df9-adca-3b9b4d474b47"
      },
      "outputs": [
        {
          "output_type": "stream",
          "name": "stdout",
          "text": [
            "Epoch: 1/30.. Training loss: 0.678.. Test loss: 0.505.. Train Accuracy: 0.742 Test Accuracy: 0.830..\n",
            "Epoch: 2/30.. Training loss: 0.466.. Test loss: 0.459.. Train Accuracy: 0.828 Test Accuracy: 0.851..\n",
            "Epoch: 3/30.. Training loss: 0.420.. Test loss: 0.390.. Train Accuracy: 0.845 Test Accuracy: 0.869..\n",
            "Epoch: 4/30.. Training loss: 0.391.. Test loss: 0.382.. Train Accuracy: 0.855 Test Accuracy: 0.875..\n",
            "Epoch: 5/30.. Training loss: 0.373.. Test loss: 0.360.. Train Accuracy: 0.861 Test Accuracy: 0.877..\n",
            "Epoch: 6/30.. Training loss: 0.357.. Test loss: 0.335.. Train Accuracy: 0.866 Test Accuracy: 0.882..\n",
            "Epoch: 7/30.. Training loss: 0.349.. Test loss: 0.336.. Train Accuracy: 0.870 Test Accuracy: 0.884..\n",
            "Epoch: 8/30.. Training loss: 0.339.. Test loss: 0.324.. Train Accuracy: 0.874 Test Accuracy: 0.889..\n",
            "Epoch: 9/30.. Training loss: 0.333.. Test loss: 0.313.. Train Accuracy: 0.876 Test Accuracy: 0.888..\n",
            "Epoch: 10/30.. Training loss: 0.325.. Test loss: 0.302.. Train Accuracy: 0.879 Test Accuracy: 0.892..\n"
          ]
        }
      ],
      "source": [
        "# Train network \n",
        "\n",
        "\"\"\"\n",
        "model = LENET5()\n",
        "criterion = nn.NLLLoss()\n",
        "optimizer = optim.Adam(model.parameters(), lr=0.001, weight_decay=0.05)\n",
        "\n",
        "\"\"\"\n",
        "# Train network - dropout\n",
        "model = LENET5_dropout()\n",
        "criterion = nn.NLLLoss()\n",
        "optimizer = optim.Adam(model.parameters(), lr=0.001)\n",
        "\"\"\"\n",
        "# Train network - bn\n",
        "model = LENET5_bn()\n",
        "criterion = nn.NLLLoss()\n",
        "optimizer = optim.Adam(model.parameters(), lr=0.001)\n",
        "\"\"\"\n",
        "\n",
        "epochs = 30\n",
        "\n",
        "#train_losses_wd, test_losses_wd = [], []\n",
        "train_losses_dropout, test_losses_dropout = [], []\n",
        "accuracy_train_dropout, accuracy_test_dropout = [], []\n",
        "#train_losses_bn, test_losses_bn = [], []\n",
        "\n",
        "for e in range(epochs):\n",
        "  running_loss = 0\n",
        "  accuracy_train = 0\n",
        "  for images, labels in trainloader:\n",
        "    \n",
        "    optimizer.zero_grad()\n",
        "\n",
        "    log_ps = model(images)\n",
        "    loss = criterion(log_ps, labels)\n",
        "    loss.backward()\n",
        "    optimizer.step()\n",
        "    \n",
        "    running_loss += loss.item()\n",
        "    \n",
        "    ps = torch.exp(log_ps)\n",
        "    top_p, top_class = ps.topk(1, dim=1)\n",
        "    equals = top_class == labels.view(*top_class.shape)\n",
        "    accuracy_train += torch.mean(equals.type(torch.FloatTensor))\n",
        "\n",
        "\n",
        "  else:\n",
        "    test_loss = 0\n",
        "    accuracy_test = 0\n",
        "    counter = 0\n",
        "\n",
        "    with torch.no_grad():\n",
        "      model.eval()\n",
        "      for images, labels in testloader:\n",
        "        log_ps = model(images)\n",
        "        test_loss += criterion(log_ps, labels)\n",
        "\n",
        "        ps = torch.exp(log_ps)\n",
        "        top_p, top_class = ps.topk(1, dim=1)\n",
        "        equals = top_class == labels.view(*top_class.shape)\n",
        "        accuracy_test += torch.mean(equals.type(torch.FloatTensor))\n",
        "\n",
        "    model.train()\n",
        "\n",
        "    train_losses_dropout.append(running_loss/len(trainloader))\n",
        "    test_losses_dropout.append(test_loss/len(testloader))\n",
        "    accuracy_train_dropout.append(accuracy_train / len(trainloader))\n",
        "    accuracy_test_dropout.append(accuracy_test / len(testloader))\n",
        "    \"\"\"\n",
        "    train_losses_droput.append(train_loss)\n",
        "    test_losses_dropout.append(test_loss)\n",
        "    train_losses_bn.append(train_loss)\n",
        "    test_losses_bn.append(test_loss)\n",
        "    \"\"\"\n",
        "\n",
        "    print (\"Epoch: {}/{}..\".format(e+1, epochs),\n",
        "           \"Training loss: {:.3f}..\".format(train_losses_dropout[-1]),\n",
        "           \"Test loss: {:.3f}..\".format(test_losses_dropout[-1]),\n",
        "           \"Train Accuracy: {:.3f}\".format(accuracy_train / len(trainloader)),\n",
        "           \"Test Accuracy: {:.3f}..\".format(accuracy_test / len(testloader)))\n",
        "           "
      ]
    },
    {
      "cell_type": "code",
      "execution_count": null,
      "metadata": {
        "colab": {
          "background_save": true
        },
        "id": "i1x7dZVOzX6I"
      },
      "outputs": [],
      "source": [
        "%matplotlib inline\n",
        "%config InlineBackend.figure_format = 'retina'\n",
        "\n",
        "import matplotlib.pyplot as plt"
      ]
    },
    {
      "cell_type": "code",
      "execution_count": null,
      "metadata": {
        "colab": {
          "base_uri": "https://localhost:8080/"
        },
        "id": "ICaaIkMgJvKZ",
        "outputId": "8b81c948-c302-42d9-ee36-b1a11ae649cf"
      },
      "outputs": [
        {
          "name": "stdout",
          "output_type": "stream",
          "text": [
            "tensor(841.8906)\n"
          ]
        }
      ],
      "source": [
        "print(accuracy_train)"
      ]
    },
    {
      "cell_type": "code",
      "execution_count": null,
      "metadata": {
        "colab": {
          "background_save": true
        },
        "id": "GTzLTKMAzY9B"
      },
      "outputs": [],
      "source": [
        "plt.plot(accuracy_train_dropout, label='Training accuracy')\n",
        "plt.plot(accuracy_test_dropout, label='Validation accuracy')\n",
        "plt.legend(frameon=False)\n",
        "plt.title('LENET-5 with Dropout')"
      ]
    },
    {
      "cell_type": "code",
      "execution_count": null,
      "metadata": {
        "colab": {
          "background_save": true
        },
        "id": "pmNBxnNKvvAu"
      },
      "outputs": [],
      "source": [
        "# Save model parameters\n",
        "torch.save(model.state_dict(), '/content/drive/MyDrive/Deep Learning Course/HW1/lenet5_dropout.pth')\n",
        "torch.save((accuracy_train_dropout, accuracy_test_dropout), '/content/drive/MyDrive/Deep Learning Course/HW1/accuracies_dropout.pth')"
      ]
    },
    {
      "cell_type": "code",
      "execution_count": 10,
      "metadata": {
        "colab": {
          "base_uri": "https://localhost:8080/"
        },
        "id": "-KCfZ9bRI2DM",
        "outputId": "c4930986-28cf-418b-d97f-43fc8d50db03"
      },
      "outputs": [
        {
          "output_type": "execute_result",
          "data": {
            "text/plain": [
              "<All keys matched successfully>"
            ]
          },
          "metadata": {},
          "execution_count": 10
        }
      ],
      "source": [
        "# Load model parameters\n",
        "model = LENET5_dropout()\n",
        "state_dict = torch.load('/content/drive/MyDrive/Deep Learning Course/HW1/lenet5_dropout.pth')\n",
        "model.load_state_dict(state_dict)"
      ]
    },
    {
      "cell_type": "code",
      "execution_count": null,
      "metadata": {
        "id": "aNYKEgy3Hdz3"
      },
      "outputs": [],
      "source": [
        "check = torch.load('/content/drive/MyDrive/Deep Learning Course/HW1/lenet5_dropout.pth')\n",
        "\n",
        "print(model1)"
      ]
    },
    {
      "cell_type": "code",
      "execution_count": null,
      "metadata": {
        "id": "kDVp-o0X0vuU"
      },
      "outputs": [],
      "source": [
        "def view_classify(img, ps, version=\"MNIST\"):\n",
        "    ''' Function for viewing an image and it's predicted classes.\n",
        "    '''\n",
        "    ps = ps.data.numpy().squeeze()\n",
        "\n",
        "    fig, (ax1, ax2) = plt.subplots(figsize=(6,9), ncols=2)\n",
        "    ax1.imshow(img.resize_(1, 28, 28).numpy().squeeze())\n",
        "    ax1.axis('off')\n",
        "    ax2.barh(np.arange(10), ps)\n",
        "    ax2.set_aspect(0.1)\n",
        "    ax2.set_yticks(np.arange(10))\n",
        "    if version == \"MNIST\":\n",
        "        ax2.set_yticklabels(np.arange(10))\n",
        "    elif version == \"Fashion\":\n",
        "        ax2.set_yticklabels(['T-shirt/top',\n",
        "                            'Trouser',\n",
        "                            'Pullover',\n",
        "                            'Dress',\n",
        "                            'Coat',\n",
        "                            'Sandal',\n",
        "                            'Shirt',\n",
        "                            'Sneaker',\n",
        "                            'Bag',\n",
        "                            'Ankle Boot'], size='small');\n",
        "    ax2.set_title('Class Probability')\n",
        "    ax2.set_xlim(0, 1.1)\n",
        "\n",
        "    plt.tight_layout()"
      ]
    },
    {
      "cell_type": "code",
      "execution_count": null,
      "metadata": {
        "colab": {
          "base_uri": "https://localhost:8080/",
          "height": 318
        },
        "id": "53Dm60Dn0wzy",
        "outputId": "d7aa8e1d-e066-45e1-cfaf-b3c1ba5c3cc4"
      },
      "outputs": [
        {
          "data": {
            "image/png": "[encoded data removed]",
            "text/plain": [
              "<Figure size 600x900 with 2 Axes>"
            ]
          },
          "metadata": {
            "image/png": {
              "height": 301,
              "width": 589
            }
          },
          "output_type": "display_data"
        }
      ],
      "source": [
        "import matplotlib.pyplot as plt\n",
        "import numpy as np\n",
        "from torch import nn, optim\n",
        "from torch.autograd import Variable\n",
        "\n",
        "%matplotlib inline\n",
        "%config InlineBackend.figure_format = 'retina'\n",
        "\n",
        "# Test out your network!\n",
        "\n",
        "dataiter = iter(testloader)\n",
        "images, labels = next(dataiter)\n",
        "img = images[0]\n",
        "# Convert 2D image to 1D vector\n",
        "#img = img.resize_(1, 784)\n",
        "\n",
        "# TODO: Calculate the class probabilities (softmax) for img\n",
        "ps = torch.exp(model(img.view(1, 1, 28, 28)))\n",
        "\n",
        "# Plot the image and probabilities\n",
        "view_classify(img.resize_(1, 28, 28), ps, version='Fashion')"
      ]
    },
    {
      "cell_type": "markdown",
      "metadata": {
        "id": "oJow04YULRxs"
      },
      "source": [
        "<p>Compare the usage of the following techniques with Lenet5: </p>\n",
        "<ul>\n",
        "<li>Dropout (at the hidden layer)</li>\n",
        "<li>Weight Decay (also known as #2 loss)</li>\n",
        "<li>Batch Normalization</li>\n",
        "</ul> \n"
      ]
    },
    {
      "cell_type": "code",
      "execution_count": null,
      "metadata": {
        "id": "BCUnK8qtL6gq"
      },
      "outputs": [],
      "source": []
    },
    {
      "cell_type": "markdown",
      "metadata": {
        "id": "-gjjk2O6kHy2"
      },
      "source": [
        "# Plots"
      ]
    }
  ],
  "metadata": {
    "accelerator": "GPU",
    "colab": {
      "collapsed_sections": [
        "IDiqWc4lkEs4",
        "Lk5ce5bwkLYD"
      ],
      "provenance": [],
      "mount_file_id": "1M-_X-Y691EHAcBPlJhBiu4ZZ_r1ns7CU",
      "authorship_tag": "ABX9TyOpE/t3nskOyIL0vg1wbcrX",
      "include_colab_link": true
    },
    "gpuClass": "standard",
    "kernelspec": {
      "display_name": "Python 3",
      "name": "python3"
    },
    "language_info": {
      "name": "python"
    }
  },
  "nbformat": 4,
  "nbformat_minor": 0
}